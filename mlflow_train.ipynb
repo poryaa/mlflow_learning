{
 "cells": [
  {
   "cell_type": "code",
   "execution_count": 1,
   "id": "05415279",
   "metadata": {},
   "outputs": [
    {
     "name": "stdout",
     "output_type": "stream",
     "text": [
      "Experiment id: 202257975021101016\n"
     ]
    }
   ],
   "source": [
    "import  mlflow\n",
    "\n",
    "experiment_id = mlflow.create_experiment(name=\"first_experiment_for_test\", tags={\"version\": \"v1\"})\n",
    "print(f\"Experiment id: {experiment_id}\")"
   ]
  },
  {
   "cell_type": "code",
   "execution_count": 3,
   "id": "c3d13fc2",
   "metadata": {},
   "outputs": [
    {
     "name": "stderr",
     "output_type": "stream",
     "text": [
      "2025/10/16 13:56:17 INFO mlflow.tracking.fluent: Experiment with name 'first_experimnet_for_test' does not exist. Creating a new experiment.\n"
     ]
    }
   ],
   "source": [
    "experiment = mlflow.set_experiment(experiment_name=\"first_experimnet_for_test\")"
   ]
  },
  {
   "cell_type": "code",
   "execution_count": 6,
   "id": "ea187e25",
   "metadata": {},
   "outputs": [
    {
     "name": "stdout",
     "output_type": "stream",
     "text": [
      "Active run_id: f4eb8d3bea2b46998c6bc1a26fdc84f3\n"
     ]
    }
   ],
   "source": [
    "with mlflow.start_run() as run:\n",
    "    print(f\"Active run_id: {run.info.run_id}\") "
   ]
  },
  {
   "cell_type": "code",
   "execution_count": null,
   "id": "a601b4c3",
   "metadata": {},
   "outputs": [],
   "source": []
  }
 ],
 "metadata": {
  "kernelspec": {
   "display_name": ".venv_mlflow",
   "language": "python",
   "name": "python3"
  },
  "language_info": {
   "codemirror_mode": {
    "name": "ipython",
    "version": 3
   },
   "file_extension": ".py",
   "mimetype": "text/x-python",
   "name": "python",
   "nbconvert_exporter": "python",
   "pygments_lexer": "ipython3",
   "version": "3.13.2"
  }
 },
 "nbformat": 4,
 "nbformat_minor": 5
}
