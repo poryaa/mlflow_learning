{
 "cells": [
  {
   "cell_type": "code",
   "execution_count": 2,
   "id": "05415279",
   "metadata": {},
   "outputs": [
    {
     "name": "stdout",
     "output_type": "stream",
     "text": [
      "Experiment id: 491344806451334198\n"
     ]
    }
   ],
   "source": [
    "import  mlflow\n",
    "\n",
    "experiment_id = mlflow.create_experiment(name=\"second_experiment_for_test\", tags={\"version\": \"v1\"})\n",
    "print(f\"Experiment id: {experiment_id}\")"
   ]
  },
  {
   "cell_type": "code",
   "execution_count": 3,
   "id": "c3d13fc2",
   "metadata": {},
   "outputs": [],
   "source": [
    "experiment = mlflow.set_experiment(experiment_name=\"second_experiment_for_test\")"
   ]
  },
  {
   "cell_type": "code",
   "execution_count": 4,
   "id": "ea187e25",
   "metadata": {},
   "outputs": [
    {
     "name": "stdout",
     "output_type": "stream",
     "text": [
      "Active run_id: 26ef01bd1c01483083af49d8ce9d735d\n"
     ]
    }
   ],
   "source": [
    "with mlflow.start_run() as run:\n",
    "    print(f\"Active run_id: {run.info.run_id}\") "
   ]
  },
  {
   "cell_type": "code",
   "execution_count": 5,
   "id": "a601b4c3",
   "metadata": {},
   "outputs": [
    {
     "name": "stdout",
     "output_type": "stream",
     "text": [
      "second_experiment_for_test\n",
      "491344806451334198\n"
     ]
    }
   ],
   "source": [
    "experiment = mlflow.get_experiment_by_name(name=\"second_experiment_for_test\")\n",
    "if experiment is None:\n",
    "    print(\"experiment does not exist!\")\n",
    "print(experiment.name)\n",
    "print(experiment.experiment_id)"
   ]
  },
  {
   "cell_type": "code",
   "execution_count": 6,
   "id": "c4a8ded5",
   "metadata": {},
   "outputs": [
    {
     "data": {
      "text/plain": [
       "experiment_id: \"491344806451334198\"\n",
       "name: \"second_experiment_for_test\"\n",
       "artifact_location: \"file:///home/paminidigehsara/Desktop/MLflow/mlruns/491344806451334198\"\n",
       "lifecycle_stage: \"active\"\n",
       "last_update_time: 1760621961232\n",
       "creation_time: 1760621961232\n",
       "tags {\n",
       "  key: \"version\"\n",
       "  value: \"v1\"\n",
       "}"
      ]
     },
     "execution_count": 6,
     "metadata": {},
     "output_type": "execute_result"
    }
   ],
   "source": [
    "experiment.to_proto()"
   ]
  },
  {
   "cell_type": "code",
   "execution_count": 8,
   "id": "aec2101a",
   "metadata": {},
   "outputs": [
    {
     "data": {
      "text/plain": [
       "experiment_id: \"491344806451334198\"\n",
       "name: \"second_experiment_for_test\"\n",
       "artifact_location: \"file:///home/paminidigehsara/Desktop/MLflow/mlruns/491344806451334198\"\n",
       "lifecycle_stage: \"active\"\n",
       "last_update_time: 1760621961232\n",
       "creation_time: 1760621961232\n",
       "tags {\n",
       "  key: \"version\"\n",
       "  value: \"v1\"\n",
       "}"
      ]
     },
     "execution_count": 8,
     "metadata": {},
     "output_type": "execute_result"
    }
   ],
   "source": [
    "experiment.to_proto()"
   ]
  },
  {
   "cell_type": "code",
   "execution_count": 7,
   "id": "e6030c76",
   "metadata": {},
   "outputs": [],
   "source": [
    "mlflow.set_experiment_tag(key=\"Owner\", value=\"Pourya\")"
   ]
  },
  {
   "cell_type": "code",
   "execution_count": 9,
   "id": "009eb238",
   "metadata": {},
   "outputs": [
    {
     "data": {
      "text/plain": [
       "experiment_id: \"491344806451334198\"\n",
       "name: \"second_experiment_for_test\"\n",
       "artifact_location: \"file:///home/paminidigehsara/Desktop/MLflow/mlruns/491344806451334198\"\n",
       "lifecycle_stage: \"active\"\n",
       "last_update_time: 1760621961232\n",
       "creation_time: 1760621961232\n",
       "tags {\n",
       "  key: \"version\"\n",
       "  value: \"v1\"\n",
       "}\n",
       "tags {\n",
       "  key: \"Owner\"\n",
       "  value: \"Pourya\"\n",
       "}"
      ]
     },
     "execution_count": 9,
     "metadata": {},
     "output_type": "execute_result"
    }
   ],
   "source": [
    "experiment = mlflow.set_experiment(experiment_name=\"second_experiment_for_test\")\n",
    "experiment.to_proto()"
   ]
  },
  {
   "cell_type": "code",
   "execution_count": 12,
   "id": "eff58ecb",
   "metadata": {},
   "outputs": [
    {
     "name": "stdout",
     "output_type": "stream",
     "text": [
      "experiment_id: \"491344806451334198\"\n",
      "name: \"second_experiment_for_test\"\n",
      "artifact_location: \"file:///home/paminidigehsara/Desktop/MLflow/mlruns/491344806451334198\"\n",
      "lifecycle_stage: \"active\"\n",
      "last_update_time: 1760621961232\n",
      "creation_time: 1760621961232\n",
      "tags {\n",
      "  key: \"version\"\n",
      "  value: \"v1\"\n",
      "}\n",
      "tags {\n",
      "  key: \"Owner\"\n",
      "  value: \"Pourya\"\n",
      "}\n",
      "\n"
     ]
    }
   ],
   "source": [
    "client = mlflow.MlflowClient()\n",
    "client.set_experiment_tag(experiment_id=experiment.experiment_id, key=\"client_tag\", value=\"new-tag-by-client\")\n",
    "print(experiment.to_proto())"
   ]
  },
  {
   "cell_type": "code",
   "execution_count": 13,
   "id": "4275abfb",
   "metadata": {},
   "outputs": [],
   "source": [
    "mlflow.set_experiment_tag(key=\"mlflow.note.content\", value=\"this is a test description...\")"
   ]
  },
  {
   "cell_type": "code",
   "execution_count": null,
   "id": "95b107bc",
   "metadata": {},
   "outputs": [],
   "source": []
  }
 ],
 "metadata": {
  "kernelspec": {
   "display_name": ".venv_mlflow",
   "language": "python",
   "name": "python3"
  },
  "language_info": {
   "codemirror_mode": {
    "name": "ipython",
    "version": 3
   },
   "file_extension": ".py",
   "mimetype": "text/x-python",
   "name": "python",
   "nbconvert_exporter": "python",
   "pygments_lexer": "ipython3",
   "version": "3.13.2"
  }
 },
 "nbformat": 4,
 "nbformat_minor": 5
}
