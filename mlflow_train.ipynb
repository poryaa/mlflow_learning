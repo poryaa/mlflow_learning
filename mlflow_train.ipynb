{
 "cells": [
  {
   "cell_type": "markdown",
   "id": "0a025915",
   "metadata": {},
   "source": [
    "# Experiment"
   ]
  },
  {
   "cell_type": "code",
   "execution_count": null,
   "id": "05415279",
   "metadata": {},
   "outputs": [],
   "source": [
    "import  mlflow\n",
    "\n",
    "experiment_id = mlflow.create_experiment(name=\"second_experiment_for_test\", tags={\"version\": \"v1\"})\n",
    "print(f\"Experiment id: {experiment_id}\")"
   ]
  },
  {
   "cell_type": "code",
   "execution_count": null,
   "id": "c3d13fc2",
   "metadata": {},
   "outputs": [],
   "source": [
    "experiment = mlflow.set_experiment(experiment_name=\"second_experiment_for_test\")"
   ]
  },
  {
   "cell_type": "code",
   "execution_count": null,
   "id": "ea187e25",
   "metadata": {},
   "outputs": [],
   "source": [
    "with mlflow.start_run() as run:\n",
    "    print(f\"Active run_id: {run.info.run_id}\") "
   ]
  },
  {
   "cell_type": "code",
   "execution_count": null,
   "id": "a601b4c3",
   "metadata": {},
   "outputs": [],
   "source": [
    "experiment = mlflow.get_experiment_by_name(name=\"second_experiment_for_test\")\n",
    "if experiment is None:\n",
    "    print(\"experiment does not exist!\")\n",
    "print(experiment.name)\n",
    "print(experiment.experiment_id)"
   ]
  },
  {
   "cell_type": "code",
   "execution_count": null,
   "id": "c4a8ded5",
   "metadata": {},
   "outputs": [],
   "source": [
    "experiment.to_proto()"
   ]
  },
  {
   "cell_type": "code",
   "execution_count": null,
   "id": "aec2101a",
   "metadata": {},
   "outputs": [],
   "source": [
    "experiment.to_proto()"
   ]
  },
  {
   "cell_type": "code",
   "execution_count": null,
   "id": "e6030c76",
   "metadata": {},
   "outputs": [],
   "source": [
    "mlflow.set_experiment_tag(key=\"Owner\", value=\"Pourya\")"
   ]
  },
  {
   "cell_type": "code",
   "execution_count": null,
   "id": "009eb238",
   "metadata": {},
   "outputs": [],
   "source": [
    "experiment = mlflow.set_experiment(experiment_name=\"second_experiment_for_test\")\n",
    "experiment.to_proto()"
   ]
  },
  {
   "cell_type": "code",
   "execution_count": null,
   "id": "eff58ecb",
   "metadata": {},
   "outputs": [],
   "source": [
    "client = mlflow.MlflowClient()\n",
    "client.set_experiment_tag(experiment_id=experiment.experiment_id, key=\"client_tag\", value=\"new-tag-by-client\")\n",
    "print(experiment.to_proto())"
   ]
  },
  {
   "cell_type": "code",
   "execution_count": null,
   "id": "4275abfb",
   "metadata": {},
   "outputs": [],
   "source": [
    "mlflow.set_experiment_tag(key=\"mlflow.note.content\", value=\"this is a test description...\")"
   ]
  },
  {
   "cell_type": "markdown",
   "id": "8e964cf3",
   "metadata": {},
   "source": [
    "# Runs"
   ]
  },
  {
   "cell_type": "code",
   "execution_count": null,
   "id": "5c181012",
   "metadata": {},
   "outputs": [],
   "source": [
    "import mlflow\n",
    "\n",
    "run = mlflow.start_run()\n",
    "print(type(run).__name__)"
   ]
  },
  {
   "cell_type": "code",
   "execution_count": null,
   "id": "74471d2f",
   "metadata": {},
   "outputs": [],
   "source": [
    "run.info.to_proto()"
   ]
  },
  {
   "cell_type": "code",
   "execution_count": null,
   "id": "84e6cf9c",
   "metadata": {},
   "outputs": [],
   "source": [
    "run.data.to_dictionary()"
   ]
  },
  {
   "cell_type": "code",
   "execution_count": null,
   "id": "2b830bf2",
   "metadata": {},
   "outputs": [],
   "source": [
    "# add some logs params and metrics\n",
    "mlflow.log_param(\"param1\", 15)\n",
    "mlflow.log_param(\"param2\", 25)\n",
    "mlflow.log_param(\"param4\", 35)\n",
    "\n",
    "mlflow.log_metric(\"metric1\", 0.15)\n",
    "mlflow.log_metric(\"metric2\", 0.25)\n",
    "mlflow.log_metric(\"metric3\", 0.35)\n"
   ]
  },
  {
   "cell_type": "code",
   "execution_count": null,
   "id": "0aa8a6d4",
   "metadata": {},
   "outputs": [],
   "source": [
    "run = mlflow.get_run(run_id=run.info.run_id)"
   ]
  },
  {
   "cell_type": "code",
   "execution_count": null,
   "id": "890fedb6",
   "metadata": {},
   "outputs": [],
   "source": [
    "run.data.to_dictionary()"
   ]
  },
  {
   "cell_type": "code",
   "execution_count": null,
   "id": "f4f34650",
   "metadata": {},
   "outputs": [],
   "source": [
    "mlflow.end_run(run)"
   ]
  },
  {
   "cell_type": "code",
   "execution_count": null,
   "id": "e0714c87",
   "metadata": {},
   "outputs": [],
   "source": [
    "run.info.to_proto()"
   ]
  },
  {
   "cell_type": "code",
   "execution_count": null,
   "id": "d7bc9e59",
   "metadata": {},
   "outputs": [],
   "source": [
    "with mlflow.start_run() as run:\n",
    "    print(\"WITHIN RUN CONTEXT\")\n",
    "    print(\"Run status: \", run.info.status)\n",
    "    #logs params and metrics ...\n",
    "    mlflow.log_param(\"param1\", 15)\n",
    "    mlflow.log_param(\"param2\", 25)\n",
    "    mlflow.log_param(\"param4\", 35)\n",
    "\n",
    "    mlflow.log_metric(\"metric1\", 0.15)\n",
    "    mlflow.log_metric(\"metric2\", 0.25)\n",
    "    mlflow.log_metric(\"metric3\", 0.35)\n",
    "\n",
    "print(\"OUTSIDE TUN CONTEXT\")\n",
    "run = mlflow.get_run(run_id=run.info.run_id)\n",
    "\n",
    "print(\"Run status: \", run.info.status)\n",
    "print(run.data.to_dictionary())"
   ]
  },
  {
   "cell_type": "code",
   "execution_count": 13,
   "id": "fa6081f6",
   "metadata": {},
   "outputs": [
    {
     "name": "stdout",
     "output_type": "stream",
     "text": [
      "Run\n"
     ]
    }
   ],
   "source": [
    "import mlflow\n",
    "\n",
    "client = mlflow.MlflowClient()\n",
    "# create a run in the default experiment\n",
    "run= client.create_run(experiment_id=\"0\")\n",
    "print(type(run).__name__)"
   ]
  },
  {
   "cell_type": "code",
   "execution_count": 6,
   "id": "792fd651",
   "metadata": {},
   "outputs": [
    {
     "data": {
      "text/plain": [
       "run_uuid: \"42d5ced3ec9b49ce9690283c5962a7c1\"\n",
       "experiment_id: \"0\"\n",
       "run_name: \"persistent-hog-712\"\n",
       "user_id: \"unknown\"\n",
       "status: RUNNING\n",
       "start_time: 1760684155154\n",
       "artifact_uri: \"file:///home/paminidigehsara/Desktop/MLflow/mlruns/0/42d5ced3ec9b49ce9690283c5962a7c1/artifacts\"\n",
       "lifecycle_stage: \"active\"\n",
       "run_id: \"42d5ced3ec9b49ce9690283c5962a7c1\""
      ]
     },
     "execution_count": 6,
     "metadata": {},
     "output_type": "execute_result"
    }
   ],
   "source": [
    "run.info.to_proto()"
   ]
  },
  {
   "cell_type": "code",
   "execution_count": 7,
   "id": "b59a26de",
   "metadata": {},
   "outputs": [],
   "source": [
    "mlflow.log_metric(\"ran_met\", 10)"
   ]
  },
  {
   "cell_type": "code",
   "execution_count": 8,
   "id": "0c69eacc",
   "metadata": {},
   "outputs": [],
   "source": [
    "mlflow.end_run()"
   ]
  },
  {
   "cell_type": "code",
   "execution_count": 10,
   "id": "47433bed",
   "metadata": {},
   "outputs": [],
   "source": [
    "client.set_terminated(run_id=\"42d5ced3ec9b49ce9690283c5962a7c1\")"
   ]
  },
  {
   "cell_type": "code",
   "execution_count": 11,
   "id": "48f2ff60",
   "metadata": {},
   "outputs": [
    {
     "name": "stdout",
     "output_type": "stream",
     "text": [
      "Within RUN CONTEXT\n",
      "RUN NAME:  clumsy-flea-730\n",
      "RUN status:  RUNNING\n",
      "OUTSIDE CONTEXT\n",
      "RUN NAME:  clumsy-flea-730\n",
      "RUN status:  FINISHED\n",
      "RUN DATA {'metrics': {'m1': 2.0}, 'params': {'p1': '1'}, 'tags': {'mlflow.runName': 'clumsy-flea-730'}}\n"
     ]
    }
   ],
   "source": [
    "run = client.create_run(experiment_id=\"0\")\n",
    "\n",
    "with mlflow.start_run(run_id=run.info.run_id) as run:\n",
    "    print(\"Within RUN CONTEXT\")\n",
    "    print(\"RUN NAME: \", run.info.run_name)\n",
    "    print(\"RUN status: \",run.info.status)\n",
    "    mlflow.log_param(\"p1\", 1)\n",
    "    mlflow.log_metric(\"m1\", 2)\n",
    "run = client.get_run(run.info.run_id)\n",
    "print(\"OUTSIDE CONTEXT\")\n",
    "print(\"RUN NAME: \", run.info.run_name)\n",
    "print(\"RUN status: \",run.info.status)\n",
    "print(\"RUN DATA\", run.data.to_dictionary())"
   ]
  },
  {
   "cell_type": "code",
   "execution_count": 26,
   "id": "bd11db44",
   "metadata": {},
   "outputs": [
    {
     "name": "stdout",
     "output_type": "stream",
     "text": [
      "active\n",
      "RUNNING\n",
      "flawless-moose-762\n",
      "None\n"
     ]
    }
   ],
   "source": [
    "mlflow.start_run()\n",
    "run = mlflow.active_run()\n",
    "print(run.info.lifecycle_stage)\n",
    "print(run.info.status)\n",
    "print(run.info.run_name)\n",
    "mlflow.end_run()\n",
    "print(mlflow.active_run())"
   ]
  },
  {
   "cell_type": "code",
   "execution_count": 27,
   "id": "a5647158",
   "metadata": {},
   "outputs": [
    {
     "name": "stdout",
     "output_type": "stream",
     "text": [
      "<Run: data=<RunData: metrics={}, params={}, tags={'mlflow.runName': 'flawless-moose-762',\n",
      " 'mlflow.source.name': '/home/paminidigehsara/Desktop/MLflow/.venv_mlflow/lib/python3.13/site-packages/ipykernel_launcher.py',\n",
      " 'mlflow.source.type': 'LOCAL',\n",
      " 'mlflow.user': 'paminidigehsara'}>, info=<RunInfo: artifact_uri='file:///home/paminidigehsara/Desktop/MLflow/mlruns/0/f10191e5d28b42e58f9d8d5372ff20f2/artifacts', end_time=1760686457251, experiment_id='0', lifecycle_stage='active', run_id='f10191e5d28b42e58f9d8d5372ff20f2', run_name='flawless-moose-762', start_time=1760686457245, status='FINISHED', user_id='paminidigehsara'>, inputs=<RunInputs: dataset_inputs=[], model_inputs=[]>, outputs=<RunOutputs: model_outputs=[]>>\n"
     ]
    }
   ],
   "source": [
    "print(mlflow.last_active_run())"
   ]
  },
  {
   "cell_type": "code",
   "execution_count": 70,
   "id": "7edcc0b6",
   "metadata": {},
   "outputs": [],
   "source": [
    "client = mlflow.MlflowClient()\n",
    "run = client.create_run(experiment_id=\"0\")"
   ]
  },
  {
   "cell_type": "code",
   "execution_count": 71,
   "id": "e098a950",
   "metadata": {},
   "outputs": [
    {
     "data": {
      "text/plain": [
       "run_uuid: \"4f021cedb947493cb577af244970e191\"\n",
       "experiment_id: \"0\"\n",
       "run_name: \"indecisive-slug-284\"\n",
       "user_id: \"unknown\"\n",
       "status: RUNNING\n",
       "start_time: 1760688061468\n",
       "artifact_uri: \"file:///home/paminidigehsara/Desktop/MLflow/mlruns/0/4f021cedb947493cb577af244970e191/artifacts\"\n",
       "lifecycle_stage: \"active\"\n",
       "run_id: \"4f021cedb947493cb577af244970e191\""
      ]
     },
     "execution_count": 71,
     "metadata": {},
     "output_type": "execute_result"
    }
   ],
   "source": [
    "run.info.to_proto()"
   ]
  },
  {
   "cell_type": "markdown",
   "id": "55f11e55",
   "metadata": {},
   "source": [
    "### Set Tags"
   ]
  },
  {
   "cell_type": "code",
   "execution_count": null,
   "id": "418e840f",
   "metadata": {},
   "outputs": [
    {
     "data": {
      "text/plain": [
       "{'mlflow.user': 'paminidigehsara',\n",
       " 'mlflow.source.name': '/home/paminidigehsara/Desktop/MLflow/.venv_mlflow/lib/python3.13/site-packages/ipykernel_launcher.py',\n",
       " 'mlflow.source.type': 'LOCAL',\n",
       " 'mlflow.runName': 'flawless-moose-762',\n",
       " 'tag1': 'tag1-value',\n",
       " 'tag2': 'tag2-value'}"
      ]
     },
     "execution_count": 74,
     "metadata": {},
     "output_type": "execute_result"
    }
   ],
   "source": [
    "# Set tags\n",
    "client.set_tag(run_id=run.info.run_id, key=\"tag1\",value=\"tag1-value\")\n",
    "client.set_tag(run_id=run.info.run_id, key=\"tag2\",value=\"tag2-value\")\n",
    "\n",
    "run = mlflow.last_active_run()\n",
    "run.data.tags"
   ]
  },
  {
   "cell_type": "code",
   "execution_count": 62,
   "id": "293bd831",
   "metadata": {},
   "outputs": [
    {
     "data": {
      "text/plain": [
       "{'metrics': {},\n",
       " 'params': {},\n",
       " 'tags': {'mlflow.user': 'paminidigehsara',\n",
       "  'mlflow.source.name': '/home/paminidigehsara/Desktop/MLflow/.venv_mlflow/lib/python3.13/site-packages/ipykernel_launcher.py',\n",
       "  'mlflow.source.type': 'LOCAL',\n",
       "  'mlflow.runName': 'flawless-moose-762'}}"
      ]
     },
     "execution_count": 62,
     "metadata": {},
     "output_type": "execute_result"
    }
   ],
   "source": [
    "run.data.to_dictionary()"
   ]
  },
  {
   "cell_type": "code",
   "execution_count": 68,
   "id": "4a1e6192",
   "metadata": {},
   "outputs": [],
   "source": [
    "client.set_terminated(run_id=\"a0281e1080644d099321ff75c9f801b5\")"
   ]
  },
  {
   "cell_type": "code",
   "execution_count": 69,
   "id": "4bbb15bb",
   "metadata": {},
   "outputs": [
    {
     "data": {
      "text/plain": [
       "<Run: data=<RunData: metrics={}, params={}, tags={'mlflow.runName': 'flawless-moose-762',\n",
       " 'mlflow.source.name': '/home/paminidigehsara/Desktop/MLflow/.venv_mlflow/lib/python3.13/site-packages/ipykernel_launcher.py',\n",
       " 'mlflow.source.type': 'LOCAL',\n",
       " 'mlflow.user': 'paminidigehsara',\n",
       " 'tag1': 'tag1-value',\n",
       " 'tag2': 'tag2-value'}>, info=<RunInfo: artifact_uri='file:///home/paminidigehsara/Desktop/MLflow/mlruns/0/f10191e5d28b42e58f9d8d5372ff20f2/artifacts', end_time=1760686457251, experiment_id='0', lifecycle_stage='active', run_id='f10191e5d28b42e58f9d8d5372ff20f2', run_name='flawless-moose-762', start_time=1760686457245, status='FINISHED', user_id='paminidigehsara'>, inputs=<RunInputs: dataset_inputs=[], model_inputs=[]>, outputs=<RunOutputs: model_outputs=[]>>"
      ]
     },
     "execution_count": 69,
     "metadata": {},
     "output_type": "execute_result"
    }
   ],
   "source": [
    "mlflow.last_active_run()"
   ]
  },
  {
   "cell_type": "code",
   "execution_count": null,
   "id": "37f27d40",
   "metadata": {},
   "outputs": [],
   "source": [
    "client.set_tag(run_id=run.info.run_id, key=\"mlflow.note.content\",value=\"DESCRIPTION HERE\")\n"
   ]
  },
  {
   "cell_type": "markdown",
   "id": "3cf89588",
   "metadata": {},
   "source": [
    "### Nested Runs"
   ]
  },
  {
   "cell_type": "code",
   "execution_count": 75,
   "id": "d1675924",
   "metadata": {},
   "outputs": [
    {
     "name": "stdout",
     "output_type": "stream",
     "text": [
      "Parent run_id:  471c900693104f9cb004cbf44f4e2e65\n",
      "Child run_id:  4d4ba01a6f6f49a49c10eb8ce28a2abb\n",
      "Grandchild run_id eff3528ef7f9493d97107e23fc0b84cb\n"
     ]
    }
   ],
   "source": [
    "# nested RUN\n",
    "#there is an old version to implement like nested loops but a modern way is:\n",
    "with mlflow.start_run(run_name=\"parent\") as parent_run:\n",
    "    print(\"Parent run_id: \", parent_run.info.run_id)\n",
    "    mlflow.log_param(\"parent_param\", 1)\n",
    "with mlflow.start_run(run_name=\"child\", parent_run_id=parent_run.info.run_id) as child_run:\n",
    "    print(\"Child run_id: \", child_run.info.run_id)\n",
    "    mlflow.log_metric(\"metric_child\", 2)\n",
    "with mlflow.start_run(run_name=\"grandchild\", parent_run_id=child_run.info.run_id) as grandchild_run:\n",
    "    print(\"Grandchild run_id\", grandchild_run.info.run_id)\n",
    "    mlflow.log_param(\"grand_child_param\", 3)"
   ]
  },
  {
   "cell_type": "code",
   "execution_count": 77,
   "id": "57c4db1a",
   "metadata": {},
   "outputs": [],
   "source": [
    "# delete a run\n",
    "mlflow.delete_run(run_id=\"45e594384fea4c4dbccd9df352b773ec\")"
   ]
  },
  {
   "cell_type": "code",
   "execution_count": 84,
   "id": "6483f966",
   "metadata": {},
   "outputs": [
    {
     "name": "stdout",
     "output_type": "stream",
     "text": [
      "run_id: a3b20c5848fb46ba8fe2f45f4668e7ea; lifecycle_stage: deleted\n"
     ]
    }
   ],
   "source": [
    "client = MlflowClient()\n",
    "\n",
    "run = client.create_run(experiment_id=\"0\")\n",
    "client.delete_run(run.info.run_id)\n",
    "\n",
    "lifecycle_stage = client.get_run(run.info.run_id).info.lifecycle_stage\n",
    "print(f\"run_id: {run.info.run_id}; lifecycle_stage: {lifecycle_stage}\")"
   ]
  },
  {
   "cell_type": "markdown",
   "id": "0c5e3d57",
   "metadata": {},
   "source": [
    "### Log metric"
   ]
  },
  {
   "cell_type": "code",
   "execution_count": 97,
   "id": "66259b2e",
   "metadata": {},
   "outputs": [
    {
     "name": "stdout",
     "output_type": "stream",
     "text": [
      "run_id: a49d2c945f3540a09e88cbe5732c0d45.\n"
     ]
    },
    {
     "data": {
      "text/plain": [
       "{'metrics': {'m1': 2.0},\n",
       " 'params': {},\n",
       " 'tags': {'mlflow.user': 'paminidigehsara',\n",
       "  'mlflow.source.name': '/home/paminidigehsara/Desktop/MLflow/.venv_mlflow/lib/python3.13/site-packages/ipykernel_launcher.py',\n",
       "  'mlflow.source.type': 'LOCAL',\n",
       "  'mlflow.runName': 'logging metric'}}"
      ]
     },
     "execution_count": 97,
     "metadata": {},
     "output_type": "execute_result"
    }
   ],
   "source": [
    "import mlflow\n",
    "\n",
    "with mlflow.start_run(run_name=\"logging metric\") as run:\n",
    "    mlflow.log_metric(\"m1\", 2.0)\n",
    "\n",
    "run = mlflow.get_run(run.info.run_id)\n",
    "print(f\"run_id: {run.info.run_id}.\")\n",
    "run.data.to_dictionary()"
   ]
  },
  {
   "cell_type": "code",
   "execution_count": 100,
   "id": "3379af56",
   "metadata": {},
   "outputs": [],
   "source": [
    "from pathlib import Path\n",
    "path = Path(\"artifact_file.txt\")\n",
    "\n",
    "with mlflow.start_run(run_name=\"logging_artifacts\") as run:\n",
    "    mlflow.log_artifact(path, artifact_path=\"my artifacts\")\n"
   ]
  },
  {
   "cell_type": "markdown",
   "id": "34bc3d8f",
   "metadata": {},
   "source": [
    "### MLflow Models"
   ]
  },
  {
   "cell_type": "code",
   "execution_count": 109,
   "id": "3be43fab",
   "metadata": {},
   "outputs": [
    {
     "name": "stderr",
     "output_type": "stream",
     "text": [
      "2025/10/17 13:22:01 WARNING mlflow.models.model: `artifact_path` is deprecated. Please use `name` instead.\n",
      "\u001b[31m2025/10/17 13:22:02 WARNING mlflow.models.model: Model logged without a signature and input example. Please set `input_example` parameter when logging the model to auto infer the model signature.\u001b[0m\n"
     ]
    }
   ],
   "source": [
    "from sklearn.ensemble import RandomForestClassifier\n",
    "\n",
    "rfc = RandomForestClassifier(n_estimators=10)\n",
    "\n",
    "with mlflow.start_run(run_name=\"logging-random-forest\") as run:\n",
    "    mlflow.sklearn.log_model(sk_model=rfc, artifact_path=\"random-forest-model\")"
   ]
  },
  {
   "cell_type": "code",
   "execution_count": null,
   "id": "d95d6947",
   "metadata": {},
   "outputs": [],
   "source": [
    "import mlflow.sklearn\n",
    "from sklearn.ensemble import RandomForestClassifier\n",
    "from sklearn.datasets import load_iris\n",
    "\n",
    "iris =load_iris(as_frame=True)\n",
    "x = iris.data\n",
    "y = iris.target\n",
    "#create input_example\n",
    "input_example = x.iloc[0:10]\n",
    "rfc = RandomForestClassifier(n_estimators=10)\n",
    "\n",
    "with mlflow.start_run(run_name=\"logging-random-forest\") as run:\n",
    "    mlflow.sklearn.log_model(sk_model=rfc,\n",
    "                            artifact_path=\"random-forest-model\",\n",
    "                            input_example=input_example)"
   ]
  },
  {
   "cell_type": "code",
   "execution_count": 116,
   "id": "cbf311dd",
   "metadata": {},
   "outputs": [
    {
     "data": {
      "image/png": "[encoded data removed]",
      "text/plain": [
       "<Figure size 640x480 with 1 Axes>"
      ]
     },
     "metadata": {},
     "output_type": "display_data"
    }
   ],
   "source": [
    "import matplotlib.pyplot as plt\n",
    "\n",
    "fig, ax =plt.subplots()\n",
    "ax.plot([0,1], [2,3])\n",
    "\n",
    "with mlflow.start_run(run_name=\"logging_figures\")as run:\n",
    "    mlflow.log_figure(fig, artifact_file=\"figures/my_fig.png\")"
   ]
  },
  {
   "cell_type": "code",
   "execution_count": null,
   "id": "6256bcf7",
   "metadata": {},
   "outputs": [
    {
     "name": "stderr",
     "output_type": "stream",
     "text": [
      "2025/10/17 14:04:34 INFO mlflow.utils.autologging_utils: Created MLflow autologging run with ID '2ba41065bbb34c22b0622356cfc6cdf5', which will track hyperparameters, performance metrics, model artifacts, and lineage information for the current sklearn workflow\n",
      "2025/10/17 14:04:34 WARNING mlflow.models.model: `artifact_path` is deprecated. Please use `name` instead.\n",
      "\u001b[31m2025/10/17 14:04:35 WARNING mlflow.models.model: Model logged without a signature and input example. Please set `input_example` parameter when logging the model to auto infer the model signature.\u001b[0m\n",
      "2025/10/17 14:04:35 WARNING mlflow.models.model: `artifact_path` is deprecated. Please use `name` instead.\n"
     ]
    }
   ],
   "source": [
    "# log model with schema\n",
    "from mlflow.models import ModelSignature\n",
    "from mlflow.types.schema import Schema, ColSpec\n",
    "from sklearn.datasets import load_iris\n",
    "\n",
    "iris =load_iris(as_frame=True)\n",
    "\n",
    "#schema for the feature columns(should create a list of ColSpec objects)\n",
    "col_specifications=[\n",
    "    ColSpec(type=\"double\", name=feature_name, required= True) for feature_name in iris.feature_names\n",
    "]\n",
    "#Schema for model input\n",
    "model_input = Schema(inputs = col_specifications)\n",
    "model_output =Schema(inputs=[ColSpec(type=\"integer\", name=\"species\", required=True)])\n",
    "\n",
    "#create the model signature\n",
    "model_signature = ModelSignature(inputs = model_input,\n",
    "                                 outputs = model_output)\n",
    "\n",
    "#Now logging the model using schema\n",
    "from sklearn.ensemble import RandomForestClassifier\n",
    "rfc = RandomForestClassifier()\n",
    "rfc.fit(iris.data, iris.target)\n",
    "\n",
    "with mlflow.start_run(run_name=\"logging-random-forest\") as run:\n",
    "    mlflow.sklearn.log_model(sk_model=rfc, artifact_path=\"random-forest-model\", signature=model_signature)"
   ]
  },
  {
   "cell_type": "code",
   "execution_count": null,
   "id": "4569e2ba",
   "metadata": {},
   "outputs": [],
   "source": [
    "# signature enforecemnt\n"
   ]
  }
 ],
 "metadata": {
  "kernelspec": {
   "display_name": ".venv_mlflow",
   "language": "python",
   "name": "python3"
  },
  "language_info": {
   "codemirror_mode": {
    "name": "ipython",
    "version": 3
   },
   "file_extension": ".py",
   "mimetype": "text/x-python",
   "name": "python",
   "nbconvert_exporter": "python",
   "pygments_lexer": "ipython3",
   "version": "3.13.2"
  }
 },
 "nbformat": 4,
 "nbformat_minor": 5
}
