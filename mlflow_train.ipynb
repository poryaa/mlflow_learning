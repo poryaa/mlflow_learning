{
 "cells": [
  {
   "cell_type": "markdown",
   "id": "0a025915",
   "metadata": {},
   "source": [
    "# Experiment"
   ]
  },
  {
   "cell_type": "code",
   "execution_count": 2,
   "id": "05415279",
   "metadata": {},
   "outputs": [
    {
     "name": "stdout",
     "output_type": "stream",
     "text": [
      "Experiment id: 491344806451334198\n"
     ]
    }
   ],
   "source": [
    "import  mlflow\n",
    "\n",
    "experiment_id = mlflow.create_experiment(name=\"second_experiment_for_test\", tags={\"version\": \"v1\"})\n",
    "print(f\"Experiment id: {experiment_id}\")"
   ]
  },
  {
   "cell_type": "code",
   "execution_count": 3,
   "id": "c3d13fc2",
   "metadata": {},
   "outputs": [],
   "source": [
    "experiment = mlflow.set_experiment(experiment_name=\"second_experiment_for_test\")"
   ]
  },
  {
   "cell_type": "code",
   "execution_count": 4,
   "id": "ea187e25",
   "metadata": {},
   "outputs": [
    {
     "name": "stdout",
     "output_type": "stream",
     "text": [
      "Active run_id: 26ef01bd1c01483083af49d8ce9d735d\n"
     ]
    }
   ],
   "source": [
    "with mlflow.start_run() as run:\n",
    "    print(f\"Active run_id: {run.info.run_id}\") "
   ]
  },
  {
   "cell_type": "code",
   "execution_count": 5,
   "id": "a601b4c3",
   "metadata": {},
   "outputs": [
    {
     "name": "stdout",
     "output_type": "stream",
     "text": [
      "second_experiment_for_test\n",
      "491344806451334198\n"
     ]
    }
   ],
   "source": [
    "experiment = mlflow.get_experiment_by_name(name=\"second_experiment_for_test\")\n",
    "if experiment is None:\n",
    "    print(\"experiment does not exist!\")\n",
    "print(experiment.name)\n",
    "print(experiment.experiment_id)"
   ]
  },
  {
   "cell_type": "code",
   "execution_count": 6,
   "id": "c4a8ded5",
   "metadata": {},
   "outputs": [
    {
     "data": {
      "text/plain": [
       "experiment_id: \"491344806451334198\"\n",
       "name: \"second_experiment_for_test\"\n",
       "artifact_location: \"file:///home/paminidigehsara/Desktop/MLflow/mlruns/491344806451334198\"\n",
       "lifecycle_stage: \"active\"\n",
       "last_update_time: 1760621961232\n",
       "creation_time: 1760621961232\n",
       "tags {\n",
       "  key: \"version\"\n",
       "  value: \"v1\"\n",
       "}"
      ]
     },
     "execution_count": 6,
     "metadata": {},
     "output_type": "execute_result"
    }
   ],
   "source": [
    "experiment.to_proto()"
   ]
  },
  {
   "cell_type": "code",
   "execution_count": 8,
   "id": "aec2101a",
   "metadata": {},
   "outputs": [
    {
     "data": {
      "text/plain": [
       "experiment_id: \"491344806451334198\"\n",
       "name: \"second_experiment_for_test\"\n",
       "artifact_location: \"file:///home/paminidigehsara/Desktop/MLflow/mlruns/491344806451334198\"\n",
       "lifecycle_stage: \"active\"\n",
       "last_update_time: 1760621961232\n",
       "creation_time: 1760621961232\n",
       "tags {\n",
       "  key: \"version\"\n",
       "  value: \"v1\"\n",
       "}"
      ]
     },
     "execution_count": 8,
     "metadata": {},
     "output_type": "execute_result"
    }
   ],
   "source": [
    "experiment.to_proto()"
   ]
  },
  {
   "cell_type": "code",
   "execution_count": 7,
   "id": "e6030c76",
   "metadata": {},
   "outputs": [],
   "source": [
    "mlflow.set_experiment_tag(key=\"Owner\", value=\"Pourya\")"
   ]
  },
  {
   "cell_type": "code",
   "execution_count": 9,
   "id": "009eb238",
   "metadata": {},
   "outputs": [
    {
     "data": {
      "text/plain": [
       "experiment_id: \"491344806451334198\"\n",
       "name: \"second_experiment_for_test\"\n",
       "artifact_location: \"file:///home/paminidigehsara/Desktop/MLflow/mlruns/491344806451334198\"\n",
       "lifecycle_stage: \"active\"\n",
       "last_update_time: 1760621961232\n",
       "creation_time: 1760621961232\n",
       "tags {\n",
       "  key: \"version\"\n",
       "  value: \"v1\"\n",
       "}\n",
       "tags {\n",
       "  key: \"Owner\"\n",
       "  value: \"Pourya\"\n",
       "}"
      ]
     },
     "execution_count": 9,
     "metadata": {},
     "output_type": "execute_result"
    }
   ],
   "source": [
    "experiment = mlflow.set_experiment(experiment_name=\"second_experiment_for_test\")\n",
    "experiment.to_proto()"
   ]
  },
  {
   "cell_type": "code",
   "execution_count": 12,
   "id": "eff58ecb",
   "metadata": {},
   "outputs": [
    {
     "name": "stdout",
     "output_type": "stream",
     "text": [
      "experiment_id: \"491344806451334198\"\n",
      "name: \"second_experiment_for_test\"\n",
      "artifact_location: \"file:///home/paminidigehsara/Desktop/MLflow/mlruns/491344806451334198\"\n",
      "lifecycle_stage: \"active\"\n",
      "last_update_time: 1760621961232\n",
      "creation_time: 1760621961232\n",
      "tags {\n",
      "  key: \"version\"\n",
      "  value: \"v1\"\n",
      "}\n",
      "tags {\n",
      "  key: \"Owner\"\n",
      "  value: \"Pourya\"\n",
      "}\n",
      "\n"
     ]
    }
   ],
   "source": [
    "client = mlflow.MlflowClient()\n",
    "client.set_experiment_tag(experiment_id=experiment.experiment_id, key=\"client_tag\", value=\"new-tag-by-client\")\n",
    "print(experiment.to_proto())"
   ]
  },
  {
   "cell_type": "code",
   "execution_count": 13,
   "id": "4275abfb",
   "metadata": {},
   "outputs": [],
   "source": [
    "mlflow.set_experiment_tag(key=\"mlflow.note.content\", value=\"this is a test description...\")"
   ]
  },
  {
   "cell_type": "markdown",
   "id": "8e964cf3",
   "metadata": {},
   "source": [
    "# Runs"
   ]
  },
  {
   "cell_type": "code",
   "execution_count": 12,
   "id": "5c181012",
   "metadata": {},
   "outputs": [
    {
     "name": "stdout",
     "output_type": "stream",
     "text": [
      "ActiveRun\n"
     ]
    }
   ],
   "source": [
    "import mlflow\n",
    "\n",
    "run = mlflow.start_run()\n",
    "print(type(run).__name__)"
   ]
  },
  {
   "cell_type": "code",
   "execution_count": 13,
   "id": "74471d2f",
   "metadata": {},
   "outputs": [
    {
     "data": {
      "text/plain": [
       "run_uuid: \"2cd4c5a454f54fe8b010efcc8531a51d\"\n",
       "experiment_id: \"491344806451334198\"\n",
       "run_name: \"welcoming-flea-509\"\n",
       "user_id: \"porya\"\n",
       "status: RUNNING\n",
       "start_time: 1760636167416\n",
       "artifact_uri: \"file:///home/paminidigehsara/Desktop/MLflow/mlruns/491344806451334198/2cd4c5a454f54fe8b010efcc8531a51d/artifacts\"\n",
       "lifecycle_stage: \"active\"\n",
       "run_id: \"2cd4c5a454f54fe8b010efcc8531a51d\""
      ]
     },
     "execution_count": 13,
     "metadata": {},
     "output_type": "execute_result"
    }
   ],
   "source": [
    "run.info.to_proto()"
   ]
  },
  {
   "cell_type": "code",
   "execution_count": 16,
   "id": "84e6cf9c",
   "metadata": {},
   "outputs": [
    {
     "data": {
      "text/plain": [
       "{'metrics': {},\n",
       " 'params': {},\n",
       " 'tags': {'mlflow.source.name': '/home/porya/Desktop/mlflow_learning/.venv_mlflow/lib/python3.12/site-packages/ipykernel_launcher.py',\n",
       "  'mlflow.source.type': 'LOCAL',\n",
       "  'mlflow.runName': 'welcoming-flea-509',\n",
       "  'mlflow.user': 'porya',\n",
       "  'mlflow.source.git.commit': '802d41a112812ed23287c7d93bd75a80c4c6657c'}}"
      ]
     },
     "execution_count": 16,
     "metadata": {},
     "output_type": "execute_result"
    }
   ],
   "source": [
    "run.data.to_dictionary()"
   ]
  },
  {
   "cell_type": "code",
   "execution_count": null,
   "id": "2b830bf2",
   "metadata": {},
   "outputs": [],
   "source": [
    "# add some logs params and metrics\n",
    "mlflow.log_param(\"param1\", 15)\n",
    "mlflow.log_param(\"param2\", 25)\n",
    "mlflow.log_param(\"param4\", 35)\n",
    "\n",
    "mlflow.log_metric(\"metric1\", 0.15)\n",
    "mlflow.log_metric(\"metric2\", 0.25)\n",
    "mlflow.log_metric(\"metric3\", 0.35)\n"
   ]
  },
  {
   "cell_type": "code",
   "execution_count": 19,
   "id": "0aa8a6d4",
   "metadata": {},
   "outputs": [],
   "source": [
    "run = mlflow.get_run(run_id=run.info.run_id)"
   ]
  },
  {
   "cell_type": "code",
   "execution_count": 20,
   "id": "890fedb6",
   "metadata": {},
   "outputs": [
    {
     "data": {
      "text/plain": [
       "{'metrics': {'metric3': 0.35, 'metric2': 0.25, 'metric1': 0.15},\n",
       " 'params': {'param4': '35', 'param2': '25', 'param1': '15'},\n",
       " 'tags': {'mlflow.source.name': '/home/porya/Desktop/mlflow_learning/.venv_mlflow/lib/python3.12/site-packages/ipykernel_launcher.py',\n",
       "  'mlflow.source.type': 'LOCAL',\n",
       "  'mlflow.runName': 'welcoming-flea-509',\n",
       "  'mlflow.user': 'porya',\n",
       "  'mlflow.source.git.commit': '802d41a112812ed23287c7d93bd75a80c4c6657c'}}"
      ]
     },
     "execution_count": 20,
     "metadata": {},
     "output_type": "execute_result"
    }
   ],
   "source": [
    "run.data.to_dictionary()"
   ]
  },
  {
   "cell_type": "code",
   "execution_count": 23,
   "id": "f4f34650",
   "metadata": {},
   "outputs": [],
   "source": [
    "mlflow.end_run(run)"
   ]
  },
  {
   "cell_type": "code",
   "execution_count": 29,
   "id": "e0714c87",
   "metadata": {},
   "outputs": [
    {
     "data": {
      "text/plain": [
       "run_uuid: \"2cd4c5a454f54fe8b010efcc8531a51d\"\n",
       "experiment_id: \"491344806451334198\"\n",
       "run_name: \"welcoming-flea-509\"\n",
       "user_id: \"porya\"\n",
       "status: RUNNING\n",
       "start_time: 1760636167416\n",
       "artifact_uri: \"file:///home/paminidigehsara/Desktop/MLflow/mlruns/491344806451334198/2cd4c5a454f54fe8b010efcc8531a51d/artifacts\"\n",
       "lifecycle_stage: \"active\"\n",
       "run_id: \"2cd4c5a454f54fe8b010efcc8531a51d\""
      ]
     },
     "execution_count": 29,
     "metadata": {},
     "output_type": "execute_result"
    }
   ],
   "source": [
    "run.info.to_proto()"
   ]
  },
  {
   "cell_type": "code",
   "execution_count": null,
   "id": "d7bc9e59",
   "metadata": {},
   "outputs": [
    {
     "name": "stdout",
     "output_type": "stream",
     "text": [
      "WITHIN RUN CONTEXT\n",
      "Run status:  RUNNING\n",
      "OUTSIDE TUN CONTEXT\n",
      "Run status:  FINISHED\n",
      "{'metrics': {'metric3': 0.35, 'metric2': 0.25, 'metric1': 0.15}, 'params': {'param4': '35', 'param2': '25', 'param1': '15'}, 'tags': {'mlflow.source.name': '/home/porya/Desktop/mlflow_learning/.venv_mlflow/lib/python3.12/site-packages/ipykernel_launcher.py', 'mlflow.source.type': 'LOCAL', 'mlflow.runName': 'entertaining-bee-617', 'mlflow.user': 'porya', 'mlflow.source.git.commit': '802d41a112812ed23287c7d93bd75a80c4c6657c'}}\n"
     ]
    }
   ],
   "source": [
    "with mlflow.start_run() as run:\n",
    "    print(\"WITHIN RUN CONTEXT\")\n",
    "    print(\"Run status: \", run.info.status)\n",
    "    #logs params and metrics ...\n",
    "    mlflow.log_param(\"param1\", 15)\n",
    "    mlflow.log_param(\"param2\", 25)\n",
    "    mlflow.log_param(\"param4\", 35)\n",
    "\n",
    "    mlflow.log_metric(\"metric1\", 0.15)\n",
    "    mlflow.log_metric(\"metric2\", 0.25)\n",
    "    mlflow.log_metric(\"metric3\", 0.35)\n",
    "\n",
    "print(\"OUTSIDE TUN CONTEXT\")\n",
    "run = mlflow.get_run(run_id=run.info.run_id)\n",
    "\n",
    "print(\"Run status: \", run.info.status)\n",
    "print(run.data.to_dictionary())"
   ]
  },
  {
   "cell_type": "code",
   "execution_count": null,
   "id": "fa6081f6",
   "metadata": {},
   "outputs": [],
   "source": []
  }
 ],
 "metadata": {
  "kernelspec": {
   "display_name": ".venv_mlflow (3.12.4)",
   "language": "python",
   "name": "python3"
  },
  "language_info": {
   "codemirror_mode": {
    "name": "ipython",
    "version": 3
   },
   "file_extension": ".py",
   "mimetype": "text/x-python",
   "name": "python",
   "nbconvert_exporter": "python",
   "pygments_lexer": "ipython3",
   "version": "3.12.4"
  }
 },
 "nbformat": 4,
 "nbformat_minor": 5
}
